{
  "nbformat": 4,
  "nbformat_minor": 0,
  "metadata": {
    "colab": {
      "name": "PruebasProyectosDatos.ipynb",
      "provenance": [],
      "collapsed_sections": []
    },
    "kernelspec": {
      "name": "python3",
      "display_name": "Python 3"
    }
  },
  "cells": [
    {
      "cell_type": "code",
      "metadata": {
        "id": "ZQVBHz8FO2c8"
      },
      "source": [
        "\r\n",
        "import numpy as np \r\n",
        "from numpy import newaxis\r\n",
        "import pandas as pd \r\n",
        "from keras.layers.core import Dense, Activation, Dropout\r\n",
        "from keras.layers.recurrent import LSTM, GRU, SimpleRNN\r\n",
        "from keras.models import Sequential\r\n",
        "from keras import optimizers\r\n",
        "from keras.utils import normalize\r\n",
        "from sklearn.preprocessing import MinMaxScaler\r\n",
        "import matplotlib.pyplot as plt\r\n",
        "import matplotlib.dates "
      ],
      "execution_count": 1,
      "outputs": []
    },
    {
      "cell_type": "markdown",
      "metadata": {
        "id": "pkrywjFuQVPI"
      },
      "source": [
        "Cargamos los datos de santander\r\n"
      ]
    },
    {
      "cell_type": "code",
      "metadata": {
        "id": "Y-Z2h8cKQZTx"
      },
      "source": [
        "def dejarPredictores(data, predictores, valor):\r\n",
        "  print(\"sacando predictores\")\r\n",
        "  return data[predictores + [valor]]\r\n",
        "def dibujarGraficaTemporal(data , valor):\r\n",
        "  data[valor].plot()\r\n",
        "def dividirTestTrain(data, porcentaje = 0.9):\r\n",
        "    row = round(porcentaje * data.shape[0])\r\n",
        "    train = data[:row]\r\n",
        "    test = data[row:]\r\n",
        "    return train,test\r\n",
        "def cargarDatos(ruta, valor, fecha, len_x, len_y, predictores, division = 0.9):\r\n",
        "  data = pd.read_csv(ruta,index_col=fecha, parse_dates=[fecha])\r\n",
        "  print(data.head())\r\n",
        "  print(\"dataset cargado\")\r\n",
        "  print(type(data[valor]))\r\n",
        "  data2 = dejarPredictores(data, predictores, valor)\r\n",
        "  print(data2.head())\r\n",
        "  dibujarGraficaTemporal(data,valor)\r\n",
        "  print(data2.shape[0])\r\n",
        "  y = data2[valor]\r\n",
        "  print(y.head())\r\n",
        "  x = data2.drop(valor, axis = 1)\r\n",
        "  x = \r\n",
        "  print(x.head())\r\n",
        "  data3x = []\r\n",
        "  data3y = []\r\n",
        "  for i in range(data2.shape[0] - (len_x + len_y)):\r\n",
        "    data3x.append(x[i : i + len_x])\r\n",
        "    data3y.append(y[i + len_x :  i + len_x + len_y])\r\n",
        "  data3x = np.array(data3x)\r\n",
        "  data3y = np.array(data3y)\r\n",
        "  print(\"x shape\",data3x.shape)\r\n",
        "  print(\"y shape\",data3y.shape)\r\n",
        "  row = round(division * data3x.shape[0])\r\n",
        "  x_train = data3x[:row,]\r\n",
        "  y_train = data3y[:row,]\r\n",
        "  x_test = data3x[row:,]\r\n",
        "  y_test = data3y[row:,]\r\n",
        "  print(\"x train shape\",x_train.shape)\r\n",
        "  print(\"y train shape\",y_train.shape)\r\n",
        "  print(\"x test shape\",x_test.shape)\r\n",
        "  print(\"y test shape\",y_test.shape)\r\n",
        "  return data, x_train , y_train , x_test, y_test"
      ],
      "execution_count": null,
      "outputs": []
    },
    {
      "cell_type": "code",
      "metadata": {
        "colab": {
          "base_uri": "https://localhost:8080/",
          "height": 945
        },
        "id": "uvkgL0vLRbCD",
        "outputId": "bafaf8ab-a7ba-4181-ef08-b7a6d21523cb"
      },
      "source": [
        "ruta = '/content/drive/MyDrive/proyectos data/SAN.csv'\r\n",
        "data = 0\r\n",
        "open = 1\r\n",
        "high = 2\r\n",
        "low = 4\r\n",
        "close = 5\r\n",
        "adjClose = 6\r\n",
        "colume = 7\r\n",
        "len_x = 100\r\n",
        "len_y = 10\r\n",
        "#emoezamos con close\r\n",
        "data, x_train , y_train , x_test, y_test = cargarDatos(ruta, 'Close', 'Date', len_x, len_y, ['Open','High','Low','Adj Close','Volume'])\r\n",
        "#x_train = np.reshape(x_train, (x_train.shape[0], x_train.shape[1],x_train.shape[2], 1))\r\n",
        "#x_test = np.reshape(x_test, (x_test.shape[0], x_test.shape[1],x_test.shape[2], 1))"
      ],
      "execution_count": null,
      "outputs": [
        {
          "output_type": "stream",
          "text": [
            "            Open  High   Low  Close  Adj Close   Volume\n",
            "Date                                                   \n",
            "2016-02-11  3.78  3.80  3.69   3.74   3.144030  5879600\n",
            "2016-02-12  3.82  3.88  3.76   3.88   3.261722  4758200\n",
            "2016-02-16  4.02  4.03  3.93   3.99   3.354193  3343200\n",
            "2016-02-17  4.08  4.18  4.07   4.17   3.505510  6908200\n",
            "2016-02-18  4.11  4.11  3.94   3.95   3.320567  5181500\n",
            "dataset cargado\n",
            "<class 'pandas.core.series.Series'>\n",
            "sacando predictores\n",
            "            Open  High   Low  Adj Close   Volume  Close\n",
            "Date                                                   \n",
            "2016-02-11  3.78  3.80  3.69   3.144030  5879600   3.74\n",
            "2016-02-12  3.82  3.88  3.76   3.261722  4758200   3.88\n",
            "2016-02-16  4.02  4.03  3.93   3.354193  3343200   3.99\n",
            "2016-02-17  4.08  4.18  4.07   3.505510  6908200   4.17\n",
            "2016-02-18  4.11  4.11  3.94   3.320567  5181500   3.95\n",
            "1259\n",
            "Date\n",
            "2016-02-11    3.74\n",
            "2016-02-12    3.88\n",
            "2016-02-16    3.99\n",
            "2016-02-17    4.17\n",
            "2016-02-18    3.95\n",
            "Name: Close, dtype: float64\n",
            "            Open  High   Low  Adj Close   Volume\n",
            "Date                                            \n",
            "2016-02-11  3.78  3.80  3.69   3.144030  5879600\n",
            "2016-02-12  3.82  3.88  3.76   3.261722  4758200\n",
            "2016-02-16  4.02  4.03  3.93   3.354193  3343200\n",
            "2016-02-17  4.08  4.18  4.07   3.505510  6908200\n",
            "2016-02-18  4.11  4.11  3.94   3.320567  5181500\n",
            "x shape (1149, 100, 5)\n",
            "y shape (1149, 10)\n",
            "x train shape (1034, 100, 5)\n",
            "y train shape (1034, 10)\n",
            "x test shape (115, 100, 5)\n",
            "y test shape (115, 10)\n"
          ],
          "name": "stdout"
        },
        {
          "output_type": "display_data",
          "data": {
            "image/png": "[encoded data removed]",
            "text/plain": [
              "<Figure size 432x288 with 1 Axes>"
            ]
          },
          "metadata": {
            "tags": [],
            "needs_background": "light"
          }
        }
      ]
    },
    {
      "cell_type": "markdown",
      "metadata": {
        "id": "OPk8JAERoh22"
      },
      "source": [
        "Creamos el modelo"
      ]
    },
    {
      "cell_type": "code",
      "metadata": {
        "colab": {
          "base_uri": "https://localhost:8080/"
        },
        "id": "0P53ttyTcn_L",
        "outputId": "f59c280b-cd33-4bf8-d9a8-3db0e29141f5"
      },
      "source": [
        "model = Sequential() #https://keras.io/guides/sequential_model/\r\n",
        "model.add(SimpleRNN(50, return_sequences=True, input_shape=(x_train.shape[1],x_train.shape[2])))\r\n",
        "model.add(Dropout(0.2)) #https://keras.io/api/layers/regularization_layers/dropout/\r\n",
        "model.add(SimpleRNN(100, return_sequences=False))\r\n",
        "model.add(Dropout(0.2))\r\n",
        "model.add(Dense(len_y, activation = \"linear\")) #https://keras.io/api/layers/core_layers/dense/\r\n",
        "\r\n",
        "model.compile(loss='mse', optimizer='adam')\r\n",
        "print (model.summary())"
      ],
      "execution_count": null,
      "outputs": [
        {
          "output_type": "stream",
          "text": [
            "Model: \"sequential_1\"\n",
            "_________________________________________________________________\n",
            "Layer (type)                 Output Shape              Param #   \n",
            "=================================================================\n",
            "simple_rnn_2 (SimpleRNN)     (None, 100, 50)           2800      \n",
            "_________________________________________________________________\n",
            "dropout_2 (Dropout)          (None, 100, 50)           0         \n",
            "_________________________________________________________________\n",
            "simple_rnn_3 (SimpleRNN)     (None, 100)               15100     \n",
            "_________________________________________________________________\n",
            "dropout_3 (Dropout)          (None, 100)               0         \n",
            "_________________________________________________________________\n",
            "dense_1 (Dense)              (None, 10)                1010      \n",
            "=================================================================\n",
            "Total params: 18,910\n",
            "Trainable params: 18,910\n",
            "Non-trainable params: 0\n",
            "_________________________________________________________________\n",
            "None\n"
          ],
          "name": "stdout"
        }
      ]
    },
    {
      "cell_type": "markdown",
      "metadata": {
        "id": "rLAI-S3DrTNI"
      },
      "source": [
        "Entrenamos\r\n"
      ]
    },
    {
      "cell_type": "code",
      "metadata": {
        "colab": {
          "base_uri": "https://localhost:8080/"
        },
        "id": "5z6GbIiLrU_8",
        "outputId": "8fff0369-98a2-41d5-a7b6-2847a45b2e53"
      },
      "source": [
        "model.fit(x_train, y_train, batch_size=20, epochs=20, validation_data = (x_test, y_test))"
      ],
      "execution_count": null,
      "outputs": [
        {
          "output_type": "stream",
          "text": [
            "Epoch 1/20\n",
            "52/52 [==============================] - 4s 48ms/step - loss: 12.5361 - val_loss: 6.2061\n",
            "Epoch 2/20\n",
            "52/52 [==============================] - 2s 34ms/step - loss: 2.3466 - val_loss: 6.2597\n",
            "Epoch 3/20\n",
            "52/52 [==============================] - 2s 36ms/step - loss: 2.2562 - val_loss: 6.3092\n",
            "Epoch 4/20\n",
            "52/52 [==============================] - 2s 35ms/step - loss: 2.1822 - val_loss: 6.4595\n",
            "Epoch 5/20\n",
            "52/52 [==============================] - 2s 35ms/step - loss: 2.3618 - val_loss: 5.7825\n",
            "Epoch 6/20\n",
            "52/52 [==============================] - 2s 36ms/step - loss: 2.1983 - val_loss: 6.1421\n",
            "Epoch 7/20\n",
            "52/52 [==============================] - 2s 36ms/step - loss: 2.2496 - val_loss: 6.0108\n",
            "Epoch 8/20\n",
            "52/52 [==============================] - 2s 32ms/step - loss: 2.1235 - val_loss: 6.4120\n",
            "Epoch 9/20\n",
            "52/52 [==============================] - 2s 33ms/step - loss: 2.3240 - val_loss: 6.8761\n",
            "Epoch 10/20\n",
            "52/52 [==============================] - 2s 36ms/step - loss: 2.2388 - val_loss: 6.4955\n",
            "Epoch 11/20\n",
            "52/52 [==============================] - 2s 36ms/step - loss: 2.1595 - val_loss: 5.8549\n",
            "Epoch 12/20\n",
            "52/52 [==============================] - 2s 36ms/step - loss: 2.1695 - val_loss: 6.5087\n",
            "Epoch 13/20\n",
            "52/52 [==============================] - 2s 35ms/step - loss: 2.0074 - val_loss: 6.2142\n",
            "Epoch 14/20\n",
            " 3/52 [>.............................] - ETA: 1s - loss: 1.8963"
          ],
          "name": "stdout"
        }
      ]
    },
    {
      "cell_type": "code",
      "metadata": {
        "colab": {
          "base_uri": "https://localhost:8080/",
          "height": 708
        },
        "id": "e_MnvPV04ykY",
        "outputId": "e52a0126-21ee-4f17-cae7-57bad0d64474"
      },
      "source": [
        "    ruta = '/content/drive/MyDrive/proyectos data/IBM_2006-01-01_to_2018-01-01.csv'\r\n",
        "    dataset = pd.read_csv('/content/drive/MyDrive/proyectos data/IBM_2006-01-01_to_2018-01-01.csv', index_col='Date', parse_dates=['Date'])\r\n",
        "    dataset.loc[:,'Close']\r\n",
        "    print(dataset)\r\n",
        "    result = []\r\n",
        "    for index in range(len(dataset) - 100):\r\n",
        "        result.append(dataset[index: index + 100])\r\n",
        "    result = np.array(result)\r\n",
        "    print(result.shape)\r\n",
        "    row = round(0.9 * result.shape[0])\r\n",
        "    train = result[:int(row), :]\r\n",
        "    np.random.shuffle(train)\r\n",
        "    x_train = train[:, :-1]\r\n",
        "    y_train = train[:, -1]\r\n",
        "    x_test = result[int(row):, :-1]\r\n",
        "    y_test = result[int(row):, -1]\r\n",
        "\r\n",
        "    x_train = np.reshape(x_train, (x_train.shape[0], x_train.shape[1], 1))\r\n",
        "    x_test = np.reshape(x_test, (x_test.shape[0], x_test.shape[1], 1))  \r\n",
        "\r\n",
        "    return [x_train, y_train, x_test, y_test]\r\n",
        "  "
      ],
      "execution_count": null,
      "outputs": [
        {
          "output_type": "stream",
          "text": [
            "              Open    High     Low   Close    Volume Name\n",
            "Date                                                     \n",
            "2006-01-03   82.45   82.55   80.81   82.06  11715200  IBM\n",
            "2006-01-04   82.20   82.50   81.33   81.95   9840600  IBM\n",
            "2006-01-05   81.40   82.90   81.00   82.50   7213500  IBM\n",
            "2006-01-06   83.95   85.03   83.41   84.95   8197400  IBM\n",
            "2006-01-09   84.10   84.25   83.38   83.73   6858200  IBM\n",
            "...            ...     ...     ...     ...       ...  ...\n",
            "2017-12-22  151.82  153.00  151.50  152.50   2990583  IBM\n",
            "2017-12-26  152.51  153.86  152.50  152.83   2479017  IBM\n",
            "2017-12-27  152.95  153.18  152.61  153.13   2149257  IBM\n",
            "2017-12-28  153.20  154.12  153.20  154.04   2687624  IBM\n",
            "2017-12-29  154.17  154.72  153.42  153.42   3327087  IBM\n",
            "\n",
            "[3020 rows x 6 columns]\n",
            "(2920, 100, 6)\n"
          ],
          "name": "stdout"
        },
        {
          "output_type": "error",
          "ename": "ValueError",
          "evalue": "ignored",
          "traceback": [
            "\u001b[0;31m---------------------------------------------------------------------------\u001b[0m",
            "\u001b[0;31mValueError\u001b[0m                                Traceback (most recent call last)",
            "\u001b[0;32m<ipython-input-30-fcd6375706b0>\u001b[0m in \u001b[0;36m<module>\u001b[0;34m()\u001b[0m\n\u001b[1;32m     16\u001b[0m \u001b[0my_test\u001b[0m \u001b[0;34m=\u001b[0m \u001b[0mresult\u001b[0m\u001b[0;34m[\u001b[0m\u001b[0mint\u001b[0m\u001b[0;34m(\u001b[0m\u001b[0mrow\u001b[0m\u001b[0;34m)\u001b[0m\u001b[0;34m:\u001b[0m\u001b[0;34m,\u001b[0m \u001b[0;34m-\u001b[0m\u001b[0;36m1\u001b[0m\u001b[0;34m]\u001b[0m\u001b[0;34m\u001b[0m\u001b[0;34m\u001b[0m\u001b[0m\n\u001b[1;32m     17\u001b[0m \u001b[0;34m\u001b[0m\u001b[0m\n\u001b[0;32m---> 18\u001b[0;31m \u001b[0mx_train\u001b[0m \u001b[0;34m=\u001b[0m \u001b[0mnp\u001b[0m\u001b[0;34m.\u001b[0m\u001b[0mreshape\u001b[0m\u001b[0;34m(\u001b[0m\u001b[0mx_train\u001b[0m\u001b[0;34m,\u001b[0m \u001b[0;34m(\u001b[0m\u001b[0mx_train\u001b[0m\u001b[0;34m.\u001b[0m\u001b[0mshape\u001b[0m\u001b[0;34m[\u001b[0m\u001b[0;36m0\u001b[0m\u001b[0;34m]\u001b[0m\u001b[0;34m,\u001b[0m \u001b[0mx_train\u001b[0m\u001b[0;34m.\u001b[0m\u001b[0mshape\u001b[0m\u001b[0;34m[\u001b[0m\u001b[0;36m1\u001b[0m\u001b[0;34m]\u001b[0m\u001b[0;34m,\u001b[0m \u001b[0;36m1\u001b[0m\u001b[0;34m)\u001b[0m\u001b[0;34m)\u001b[0m\u001b[0;34m\u001b[0m\u001b[0;34m\u001b[0m\u001b[0m\n\u001b[0m\u001b[1;32m     19\u001b[0m \u001b[0mx_test\u001b[0m \u001b[0;34m=\u001b[0m \u001b[0mnp\u001b[0m\u001b[0;34m.\u001b[0m\u001b[0mreshape\u001b[0m\u001b[0;34m(\u001b[0m\u001b[0mx_test\u001b[0m\u001b[0;34m,\u001b[0m \u001b[0;34m(\u001b[0m\u001b[0mx_test\u001b[0m\u001b[0;34m.\u001b[0m\u001b[0mshape\u001b[0m\u001b[0;34m[\u001b[0m\u001b[0;36m0\u001b[0m\u001b[0;34m]\u001b[0m\u001b[0;34m,\u001b[0m \u001b[0mx_test\u001b[0m\u001b[0;34m.\u001b[0m\u001b[0mshape\u001b[0m\u001b[0;34m[\u001b[0m\u001b[0;36m1\u001b[0m\u001b[0;34m]\u001b[0m\u001b[0;34m,\u001b[0m \u001b[0;36m1\u001b[0m\u001b[0;34m)\u001b[0m\u001b[0;34m)\u001b[0m\u001b[0;34m\u001b[0m\u001b[0;34m\u001b[0m\u001b[0m\n\u001b[1;32m     20\u001b[0m \u001b[0;34m\u001b[0m\u001b[0m\n",
            "\u001b[0;32m<__array_function__ internals>\u001b[0m in \u001b[0;36mreshape\u001b[0;34m(*args, **kwargs)\u001b[0m\n",
            "\u001b[0;32m/usr/local/lib/python3.7/dist-packages/numpy/core/fromnumeric.py\u001b[0m in \u001b[0;36mreshape\u001b[0;34m(a, newshape, order)\u001b[0m\n\u001b[1;32m    297\u001b[0m            [5, 6]])\n\u001b[1;32m    298\u001b[0m     \"\"\"\n\u001b[0;32m--> 299\u001b[0;31m     \u001b[0;32mreturn\u001b[0m \u001b[0m_wrapfunc\u001b[0m\u001b[0;34m(\u001b[0m\u001b[0ma\u001b[0m\u001b[0;34m,\u001b[0m \u001b[0;34m'reshape'\u001b[0m\u001b[0;34m,\u001b[0m \u001b[0mnewshape\u001b[0m\u001b[0;34m,\u001b[0m \u001b[0morder\u001b[0m\u001b[0;34m=\u001b[0m\u001b[0morder\u001b[0m\u001b[0;34m)\u001b[0m\u001b[0;34m\u001b[0m\u001b[0;34m\u001b[0m\u001b[0m\n\u001b[0m\u001b[1;32m    300\u001b[0m \u001b[0;34m\u001b[0m\u001b[0m\n\u001b[1;32m    301\u001b[0m \u001b[0;34m\u001b[0m\u001b[0m\n",
            "\u001b[0;32m/usr/local/lib/python3.7/dist-packages/numpy/core/fromnumeric.py\u001b[0m in \u001b[0;36m_wrapfunc\u001b[0;34m(obj, method, *args, **kwds)\u001b[0m\n\u001b[1;32m     56\u001b[0m \u001b[0;34m\u001b[0m\u001b[0m\n\u001b[1;32m     57\u001b[0m     \u001b[0;32mtry\u001b[0m\u001b[0;34m:\u001b[0m\u001b[0;34m\u001b[0m\u001b[0;34m\u001b[0m\u001b[0m\n\u001b[0;32m---> 58\u001b[0;31m         \u001b[0;32mreturn\u001b[0m \u001b[0mbound\u001b[0m\u001b[0;34m(\u001b[0m\u001b[0;34m*\u001b[0m\u001b[0margs\u001b[0m\u001b[0;34m,\u001b[0m \u001b[0;34m**\u001b[0m\u001b[0mkwds\u001b[0m\u001b[0;34m)\u001b[0m\u001b[0;34m\u001b[0m\u001b[0;34m\u001b[0m\u001b[0m\n\u001b[0m\u001b[1;32m     59\u001b[0m     \u001b[0;32mexcept\u001b[0m \u001b[0mTypeError\u001b[0m\u001b[0;34m:\u001b[0m\u001b[0;34m\u001b[0m\u001b[0;34m\u001b[0m\u001b[0m\n\u001b[1;32m     60\u001b[0m         \u001b[0;31m# A TypeError occurs if the object does have such a method in its\u001b[0m\u001b[0;34m\u001b[0m\u001b[0;34m\u001b[0m\u001b[0;34m\u001b[0m\u001b[0m\n",
            "\u001b[0;31mValueError\u001b[0m: cannot reshape array of size 1561032 into shape (2628,99,1)"
          ]
        }
      ]
    },
    {
      "cell_type": "markdown",
      "metadata": {
        "id": "Av0wD71Iph_U"
      },
      "source": [
        "Entrenamos"
      ]
    }
  ]
}