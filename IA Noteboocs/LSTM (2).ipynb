{
  "nbformat": 4,
  "nbformat_minor": 0,
  "metadata": {
    "colab": {
      "name": "Copia de LSTM2.ipynb",
      "provenance": [],
      "collapsed_sections": []
    },
    "kernelspec": {
      "name": "python3",
      "display_name": "Python 3"
    }
  },
  "cells": [
    {
      "cell_type": "code",
      "metadata": {
        "id": "d8jbNzd_jAsq"
      },
      "source": [
        "import numpy as np \r\n",
        "from numpy import newaxis\r\n",
        "import pandas as pd \r\n",
        "from keras.layers.core import Dense, Activation, Dropout\r\n",
        "from keras.layers.recurrent import LSTM, GRU, SimpleRNN\r\n",
        "from keras.models import Sequential\r\n",
        "from keras import optimizers\r\n",
        "from keras.utils import normalize\r\n",
        "from sklearn.preprocessing import MinMaxScaler\r\n",
        "import matplotlib.pyplot as plt\r\n",
        "import matplotlib.dates \r\n",
        "import tensorflow as tf"
      ],
      "execution_count": null,
      "outputs": []
    },
    {
      "cell_type": "code",
      "metadata": {
        "id": "XNseNsdTm12c"
      },
      "source": [
        "def dejarPredictores(data, predictores, valor):\r\n",
        "  print(\"sacando predictores\")\r\n",
        "  return data[predictores + [valor]]\r\n",
        "def dibujarGraficaTemporal(data , valor):\r\n",
        "  data[valor].plot()\r\n",
        "def dividirTestTrain(data, porcentaje = 0.9):\r\n",
        "    row = round(porcentaje * data.shape[0])\r\n",
        "    train = data[:row]\r\n",
        "    test = data[row:]\r\n",
        "    return train,test\r\n",
        "def cargarDatos(ruta, valor, fecha, len_x, len_y, variablesAPredecir, predictores, division = 0.9):\r\n",
        "  data = pd.read_csv(ruta,index_col=fecha, parse_dates=[fecha])\r\n",
        "  print(data.head())\r\n",
        "  print(\"dataset cargado\")\r\n",
        "  print(type(data[valor]))\r\n",
        "  data2 = dejarPredictores(data, predictores, valor)\r\n",
        "  print(data2.head())\r\n",
        "  dibujarGraficaTemporal(data,valor)\r\n",
        "  print(data2.shape[0])\r\n",
        "  y = dejarPredictores(data, variablesAPredecir, valor)\r\n",
        "  print(y.head())\r\n",
        "  x = dejarPredictores(data, predictores, valor)\r\n",
        "  print(x.head())\r\n",
        "  data3x = []\r\n",
        "  data3y = []\r\n",
        "  for i in range(data2.shape[0] - (len_x + len_y)):\r\n",
        "    data3x.append(x[i : i + len_x])\r\n",
        "    data3x[i] = (data3x[i] - data3x[i].mean()) / (data3x[i].max() - data3x[i].min())\r\n",
        "    data3y.append(y[i :  i + len_x + len_y])\r\n",
        "    data3y[i] = (data3y[i] - data3y[i].mean()) / (data3y[i].max() - data3y[i].min())\r\n",
        "    data3y[i] = data3y[i][len_x : len_x + len_y]\r\n",
        "  data3x = np.array(data3x)\r\n",
        "  data3y = np.array(data3y)\r\n",
        "  print(\"x shape\",data3x.shape)\r\n",
        "  print(\"y shape\",data3y.shape)\r\n",
        "  row = round(division * data3x.shape[0])\r\n",
        "  x_train = data3x[:row,]\r\n",
        "  y_train = data3y[:row,]\r\n",
        "  y_train = y_train.squeeze()\r\n",
        "  x_test = data3x[row:,]\r\n",
        "  y_test = data3y[row:,]\r\n",
        "  y_test = y_test.squeeze()\r\n",
        "  print(\"x train shape\",x_train.shape)\r\n",
        "  print(\"y train shape\",y_train.shape)\r\n",
        "  print(\"x test shape\",x_test.shape)\r\n",
        "  print(\"y test shape\",y_test.shape)\r\n",
        "  return data, x_train , y_train , x_test, y_test"
      ],
      "execution_count": null,
      "outputs": []
    },
    {
      "cell_type": "code",
      "metadata": {
        "colab": {
          "base_uri": "https://localhost:8080/",
          "height": 945
        },
        "id": "f_iS-iUfm6Gu",
        "outputId": "b1028326-ef9a-4286-b788-106b4994d4c0"
      },
      "source": [
        "ruta = '/content/drive/MyDrive/proyectos data/SAN.csv'\r\n",
        "\"\"\"\r\n",
        "data = 0\r\n",
        "open = 1\r\n",
        "high = 2\r\n",
        "low = 4\r\n",
        "close = 5\r\n",
        "adjClose = 6\r\n",
        "colume = 7\r\n",
        "\"\"\"\r\n",
        "len_x = 100\r\n",
        "len_y = 1\r\n",
        "#emoezamos con close\r\n",
        "data, x_train , y_train , x_test, y_test = cargarDatos(ruta, 'Close', 'Date', len_x, len_y, ['Open','High','Low','Volume'],['Open','High','Low','Volume'])\r\n",
        "#x_train = np.reshape(x_train, (x_train.shape[0], x_train.shape[1],x_train.shape[2], 1))\r\n",
        "#x_test = np.reshape(x_test, (x_test.shape[0], x_test.shape[1],x_test.shape[2], 1))"
      ],
      "execution_count": null,
      "outputs": [
        {
          "output_type": "stream",
          "text": [
            "            Open  High   Low  Close  Adj Close   Volume\n",
            "Date                                                   \n",
            "2016-02-11  3.78  3.80  3.69   3.74   3.144030  5879600\n",
            "2016-02-12  3.82  3.88  3.76   3.88   3.261722  4758200\n",
            "2016-02-16  4.02  4.03  3.93   3.99   3.354193  3343200\n",
            "2016-02-17  4.08  4.18  4.07   4.17   3.505510  6908200\n",
            "2016-02-18  4.11  4.11  3.94   3.95   3.320567  5181500\n",
            "dataset cargado\n",
            "<class 'pandas.core.series.Series'>\n",
            "sacando predictores\n",
            "            Open  High   Low   Volume  Close\n",
            "Date                                        \n",
            "2016-02-11  3.78  3.80  3.69  5879600   3.74\n",
            "2016-02-12  3.82  3.88  3.76  4758200   3.88\n",
            "2016-02-16  4.02  4.03  3.93  3343200   3.99\n",
            "2016-02-17  4.08  4.18  4.07  6908200   4.17\n",
            "2016-02-18  4.11  4.11  3.94  5181500   3.95\n",
            "1259\n",
            "            Open  High   Low   Volume  Close\n",
            "Date                                        \n",
            "2016-02-11  3.78  3.80  3.69  5879600   3.74\n",
            "2016-02-12  3.82  3.88  3.76  4758200   3.88\n",
            "2016-02-16  4.02  4.03  3.93  3343200   3.99\n",
            "2016-02-17  4.08  4.18  4.07  6908200   4.17\n",
            "2016-02-18  4.11  4.11  3.94  5181500   3.95\n",
            "            Open  High   Low   Volume  Close\n",
            "Date                                        \n",
            "2016-02-11  3.78  3.80  3.69  5879600   3.74\n",
            "2016-02-12  3.82  3.88  3.76  4758200   3.88\n",
            "2016-02-16  4.02  4.03  3.93  3343200   3.99\n",
            "2016-02-17  4.08  4.18  4.07  6908200   4.17\n",
            "2016-02-18  4.11  4.11  3.94  5181500   3.95\n",
            "x shape (1158, 100, 5)\n",
            "y shape (1158, 1, 5)\n",
            "x train shape (1042, 100, 5)\n",
            "y train shape (1042, 5)\n",
            "x test shape (116, 100, 5)\n",
            "y test shape (116, 5)\n"
          ],
          "name": "stdout"
        },
        {
          "output_type": "display_data",
          "data": {
            "image/png": "[encoded data removed]",
            "text/plain": [
              "<Figure size 432x288 with 1 Axes>"
            ]
          },
          "metadata": {
            "tags": [],
            "needs_background": "light"
          }
        }
      ]
    },
    {
      "cell_type": "code",
      "metadata": {
        "colab": {
          "base_uri": "https://localhost:8080/"
        },
        "id": "m82CjYm-nAlZ",
        "outputId": "87b4b18d-5b34-42ec-bfe1-02fb8ab20ff2"
      },
      "source": [
        "model = Sequential() #https://keras.io/guides/sequential_model/\r\n",
        "model.add(LSTM(100, input_shape=(None,x_train.shape[2])))\r\n",
        "model.add(Dropout(0.2))\r\n",
        "model.add(Dense(5, activation = \"linear\")) #https://keras.io/api/layers/core_layers/dense/\r\n",
        "model.compile(loss='mse', optimizer='adam',metrics=[tf.keras.metrics.MeanSquaredError()])\r\n",
        "print (model.summary())"
      ],
      "execution_count": null,
      "outputs": [
        {
          "output_type": "stream",
          "text": [
            "Model: \"sequential_9\"\n",
            "_________________________________________________________________\n",
            "Layer (type)                 Output Shape              Param #   \n",
            "=================================================================\n",
            "lstm_9 (LSTM)                (None, 100)               42400     \n",
            "_________________________________________________________________\n",
            "dropout_9 (Dropout)          (None, 100)               0         \n",
            "_________________________________________________________________\n",
            "dense_9 (Dense)              (None, 5)                 505       \n",
            "=================================================================\n",
            "Total params: 42,905\n",
            "Trainable params: 42,905\n",
            "Non-trainable params: 0\n",
            "_________________________________________________________________\n",
            "None\n"
          ],
          "name": "stdout"
        }
      ]
    },
    {
      "cell_type": "code",
      "metadata": {
        "colab": {
          "base_uri": "https://localhost:8080/"
        },
        "id": "QkFHlrQhHcvD",
        "outputId": "76ed5cd1-a90c-4f37-ead7-09d814e831d3"
      },
      "source": [
        "print(x_train.shape)\r\n",
        "print(y_train.shape)"
      ],
      "execution_count": null,
      "outputs": [
        {
          "output_type": "stream",
          "text": [
            "(1042, 100, 5)\n",
            "(1042, 5)\n"
          ],
          "name": "stdout"
        }
      ]
    },
    {
      "cell_type": "code",
      "metadata": {
        "colab": {
          "base_uri": "https://localhost:8080/"
        },
        "id": "PEoYWjbNobFB",
        "outputId": "589aa3cf-da43-4d54-8b34-26c1b348920d"
      },
      "source": [
        "model.fit(x_train, y_train, batch_size=20, epochs=5, validation_data = (x_test, y_test))"
      ],
      "execution_count": null,
      "outputs": [
        {
          "output_type": "stream",
          "text": [
            "Epoch 1/5\n",
            "53/53 [==============================] - 4s 72ms/step - loss: 0.0143 - mean_squared_error: 0.0143 - val_loss: 0.0147 - val_mean_squared_error: 0.0147\n",
            "Epoch 2/5\n",
            "53/53 [==============================] - 4s 68ms/step - loss: 0.0123 - mean_squared_error: 0.0123 - val_loss: 0.0138 - val_mean_squared_error: 0.0138\n",
            "Epoch 3/5\n",
            "53/53 [==============================] - 4s 68ms/step - loss: 0.0114 - mean_squared_error: 0.0114 - val_loss: 0.0125 - val_mean_squared_error: 0.0125\n",
            "Epoch 4/5\n",
            "53/53 [==============================] - 4s 68ms/step - loss: 0.0107 - mean_squared_error: 0.0107 - val_loss: 0.0121 - val_mean_squared_error: 0.0121\n",
            "Epoch 5/5\n",
            "53/53 [==============================] - 4s 67ms/step - loss: 0.0099 - mean_squared_error: 0.0099 - val_loss: 0.0111 - val_mean_squared_error: 0.0111\n"
          ],
          "name": "stdout"
        },
        {
          "output_type": "execute_result",
          "data": {
            "text/plain": [
              "<tensorflow.python.keras.callbacks.History at 0x7f190a5d5ed0>"
            ]
          },
          "metadata": {
            "tags": []
          },
          "execution_count": 118
        }
      ]
    },
    {
      "cell_type": "code",
      "metadata": {
        "colab": {
          "base_uri": "https://localhost:8080/",
          "height": 354
        },
        "id": "7JvIZwcDiDRT",
        "outputId": "ee6efa04-684b-4b5d-9f88-c89dc0b2132b"
      },
      "source": [
        "y = model.predict(x_test)\r\n",
        "print(y.shape)\r\n",
        "print(y_test.shape)\r\n",
        "print(y[:,-1:].shape)\r\n",
        "print(y_test[:,-1:].shape)\r\n",
        "plt.close() \r\n",
        "plt.plot(y[:,-1:],color = \"blue\")\r\n",
        "plt.plot(y_test[:,-1:],color = \"red\")"
      ],
      "execution_count": null,
      "outputs": [
        {
          "output_type": "stream",
          "text": [
            "(116, 5)\n",
            "(116, 5)\n",
            "(116, 1)\n",
            "(116, 1)\n"
          ],
          "name": "stdout"
        },
        {
          "output_type": "execute_result",
          "data": {
            "text/plain": [
              "[<matplotlib.lines.Line2D at 0x7f190a421090>]"
            ]
          },
          "metadata": {
            "tags": []
          },
          "execution_count": 119
        },
        {
          "output_type": "display_data",
          "data": {
            "image/png": "[encoded data removed]",
            "text/plain": [
              "<Figure size 432x288 with 1 Axes>"
            ]
          },
          "metadata": {
            "tags": [],
            "needs_background": "light"
          }
        }
      ]
    },
    {
      "cell_type": "code",
      "metadata": {
        "colab": {
          "base_uri": "https://localhost:8080/",
          "height": 70
        },
        "id": "P4BwXd0NoEx-",
        "outputId": "471403b3-7437-4459-bd0d-3331416c4b59"
      },
      "source": [
        "print(y_test[1])\r\n",
        "predicciones = []\r\n",
        "for e in range(y_test.shape[0]):\r\n",
        "  x = []\r\n",
        "  x = x_test[e][:]\r\n",
        "  y = []\r\n",
        "  for a in range(e):\r\n",
        "    y.append(None)\r\n",
        "  for i in range(10):\r\n",
        "    topredict = np.expand_dims(x, axis = 0)\r\n",
        "    dummy = model.predict(topredict)\r\n",
        "    y.append(dummy[:,-1:])\r\n",
        "    x = x[1:]\r\n",
        "    x = np.concatenate([x, dummy], axis = 0)\r\n",
        "  for b in range(y_test.shape[0] - e):\r\n",
        "    y.append(None)\r\n",
        "  predicciones.append(y)\r\n",
        "\r\n",
        "plt.figure(figsize=(122,10))\r\n",
        "\r\n",
        "\r\n",
        "\r\n"
      ],
      "execution_count": null,
      "outputs": [
        {
          "output_type": "stream",
          "text": [
            "[-0.07132558 -0.08597697 -0.04928971 -0.16441548 -0.07139135]\n"
          ],
          "name": "stdout"
        },
        {
          "output_type": "execute_result",
          "data": {
            "text/plain": [
              "<Figure size 8784x720 with 0 Axes>"
            ]
          },
          "metadata": {
            "tags": []
          },
          "execution_count": 131
        },
        {
          "output_type": "display_data",
          "data": {
            "text/plain": [
              "<Figure size 8784x720 with 0 Axes>"
            ]
          },
          "metadata": {
            "tags": []
          }
        }
      ]
    },
    {
      "cell_type": "code",
      "metadata": {
        "colab": {
          "base_uri": "https://localhost:8080/",
          "height": 356
        },
        "id": "tAOhTqn2KNai",
        "outputId": "26adcad0-9267-4028-ba40-362eb36ff273"
      },
      "source": [
        "print(predicciones[60])\r\n",
        "for i in predicciones:\r\n",
        "  plt.plot(i,color = \"blue\")\r\n",
        "plt.plot(y_test[:,-1:],color = \"red\")"
      ],
      "execution_count": null,
      "outputs": [
        {
          "output_type": "stream",
          "text": [
            "[None, None, None, None, None, None, None, None, None, None, None, None, None, None, None, None, None, None, None, None, None, None, None, None, None, None, None, None, None, None, None, None, None, None, None, None, None, None, None, None, None, None, None, None, None, None, None, None, None, None, None, None, None, None, None, None, None, None, None, None, array([[0.49987853]], dtype=float32), array([[0.47355545]], dtype=float32), array([[0.44369566]], dtype=float32), array([[0.41384414]], dtype=float32), array([[0.3859471]], dtype=float32), array([[0.3611821]], dtype=float32), array([[0.34009558]], dtype=float32), array([[0.32276383]], dtype=float32), array([[0.30894533]], dtype=float32), array([[0.29821134]], dtype=float32), None, None, None, None, None, None, None, None, None, None, None, None, None, None, None, None, None, None, None, None, None, None, None, None, None, None, None, None, None, None, None, None, None, None, None, None, None, None, None, None, None, None, None, None, None, None, None, None, None, None, None, None, None, None, None, None]\n"
          ],
          "name": "stdout"
        },
        {
          "output_type": "stream",
          "text": [
            "/usr/local/lib/python3.7/dist-packages/numpy/core/_asarray.py:136: VisibleDeprecationWarning: Creating an ndarray from ragged nested sequences (which is a list-or-tuple of lists-or-tuples-or ndarrays with different lengths or shapes) is deprecated. If you meant to do this, you must specify 'dtype=object' when creating the ndarray\n",
            "  return array(a, dtype, copy=False, order=order, subok=True)\n"
          ],
          "name": "stderr"
        },
        {
          "output_type": "execute_result",
          "data": {
            "text/plain": [
              "[<matplotlib.lines.Line2D at 0x7f190b62dc10>]"
            ]
          },
          "metadata": {
            "tags": []
          },
          "execution_count": 136
        },
        {
          "output_type": "display_data",
          "data": {
            "image/png": "[encoded data removed]",
            "text/plain": [
              "<Figure size 432x288 with 1 Axes>"
            ]
          },
          "metadata": {
            "tags": [],
            "needs_background": "light"
          }
        }
      ]
    }
  ]
}